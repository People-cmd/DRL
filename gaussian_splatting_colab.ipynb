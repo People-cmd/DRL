{
  "cells": [
    {
      "cell_type": "markdown",
      "metadata": {
        "id": "view-in-github",
        "colab_type": "text"
      },
      "source": [
        "<a href=\"https://colab.research.google.com/github/People-cmd/DRL/blob/main/gaussian_splatting_colab.ipynb\" target=\"_parent\"><img src=\"https://colab.research.google.com/assets/colab-badge.svg\" alt=\"Open In Colab\"/></a>"
      ]
    },
    {
      "cell_type": "code",
      "execution_count": 21,
      "metadata": {
        "id": "VjYy0F2gZIPR",
        "colab": {
          "base_uri": "https://localhost:8080/"
        },
        "outputId": "4b88b711-ccd6-4980-ef8c-84fb809e280d"
      },
      "outputs": [
        {
          "output_type": "stream",
          "name": "stdout",
          "text": [
            "/content/gaussian-splatting\n",
            "2025-04-19 08:11:28.205984: E external/local_xla/xla/stream_executor/cuda/cuda_fft.cc:477] Unable to register cuFFT factory: Attempting to register factory for plugin cuFFT when one has already been registered\n",
            "WARNING: All log messages before absl::InitializeLog() is called are written to STDERR\n",
            "E0000 00:00:1745050288.226070   16324 cuda_dnn.cc:8310] Unable to register cuDNN factory: Attempting to register factory for plugin cuDNN when one has already been registered\n",
            "E0000 00:00:1745050288.232075   16324 cuda_blas.cc:1418] Unable to register cuBLAS factory: Attempting to register factory for plugin cuBLAS when one has already been registered\n",
            "2025-04-19 08:11:28.253053: I tensorflow/core/platform/cpu_feature_guard.cc:210] This TensorFlow binary is optimized to use available CPU instructions in performance-critical operations.\n",
            "To enable the following instructions: AVX2 AVX512F FMA, in other operations, rebuild TensorFlow with the appropriate compiler flags.\n",
            "Optimizing \n",
            "Output folder: ./output/bacb92d8-5 [19/04 08:11:31]\n",
            "Reading camera 374/374 [19/04 08:11:33]\n",
            "Converting point3d.bin to .ply, will happen only the first time you open the scene. [19/04 08:11:33]\n",
            "Loading Training Cameras [19/04 08:11:34]\n",
            "Loading Test Cameras [19/04 08:11:45]\n",
            "Number of points at initialisation :  183337 [19/04 08:11:46]\n",
            "Training progress:  23% 7000/30000 [12:21<46:35,  8.23it/s, Loss=0.0967101]\n",
            "[ITER 7000] Evaluating train: L1 0.04857675805687905 PSNR 21.047525024414064 [19/04 08:24:13]\n",
            "\n",
            "[ITER 7000] Saving Gaussians [19/04 08:24:13]\n",
            "Training progress: 100% 30000/30000 [1:01:50<00:00,  8.09it/s, Loss=0.0800285]\n",
            "\n",
            "[ITER 30000] Evaluating train: L1 0.029911315813660622 PSNR 24.578767013549808 [19/04 09:13:40]\n",
            "\n",
            "[ITER 30000] Saving Gaussians [19/04 09:13:41]\n",
            "\n",
            "Training complete. [19/04 09:14:03]\n"
          ]
        }
      ],
      "source": [
        "\n",
        "\n",
        "%cd /content/gaussian-splatting\n",
        "\n",
        "\n",
        "!python train.py -s /content/gaussian-splatting/data\n",
        "\n",
        "# !wget https://huggingface.co/camenduru/gaussian-splatting/resolve/main/GaussianViewTest.zip\n",
        "# !unzip GaussianViewTest.zip\n",
        "# !python render.py -m /content/gaussian-splatting/GaussianViewTest/model\n",
        "# !ffmpeg -framerate 3 -i /content/gaussian-splatting/GaussianViewTest/model/train/ours_30000/renders/%05d.png -vf \"pad=ceil(iw/2)*2:ceil(ih/2)*2\" -c:v libx264 -r 3 -pix_fmt yuv420p /content/renders.mp4\n",
        "# !ffmpeg -framerate 3 -i /content/gaussian-splatting/GaussianViewTest/model/train/ours_30000/gt/%05d.png -vf \"pad=ceil(iw/2)*2:ceil(ih/2)*2\" -c:v libx264 -r 3 -pix_fmt yuv420p /content/gt.mp4 -y"
      ]
    }
  ],
  "metadata": {
    "accelerator": "GPU",
    "colab": {
      "gpuType": "T4",
      "provenance": [],
      "include_colab_link": true
    },
    "kernelspec": {
      "display_name": "Python 3",
      "name": "python3"
    },
    "language_info": {
      "name": "python"
    }
  },
  "nbformat": 4,
  "nbformat_minor": 0
}